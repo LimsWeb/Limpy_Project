{
  "nbformat": 4,
  "nbformat_minor": 0,
  "metadata": {
    "colab": {
      "private_outputs": true,
      "provenance": []
    },
    "kernelspec": {
      "name": "python3",
      "display_name": "Python 3"
    },
    "language_info": {
      "name": "python"
    }
  },
  "cells": [
    {
      "cell_type": "code",
      "source": [
        "\n",
        "import random\n",
        "\n",
        "ran_num = random.randint(1,100)\n",
        "\n",
        "game_count = 1\n",
        "\n",
        "while True : # roof\n",
        "    try : # trouble shooting pass\n",
        "        my_num = int(input(\"enter in 1~100 nums! : \"))\n",
        "\n",
        "        if my_num > ran_num :\n",
        "            print(\" Down : your number is larger\")\n",
        "\n",
        "        elif my_num < ran_num :\n",
        "            print(\" Up : your number is smaller \")\n",
        "\n",
        "        elif my_num == ran_num :\n",
        "            print(\" Success!! answer is %s your are tring %s times\"%(ran_num, game_count))\n",
        "            break\n",
        "\n",
        "        game_count += 1\n",
        "\n",
        "    except :\n",
        "        print(\"에러가 발생했습니다. 숫자를 입력하세요\")\n"
      ],
      "metadata": {
        "id": "j4UozxbtuCHB"
      },
      "execution_count": null,
      "outputs": []
    },
    {
      "cell_type": "code",
      "source": [
        "\n",
        "import random\n",
        "\n",
        "ran_num = random.randint(1,100)\n",
        "\n",
        "game_count = 1\n",
        "\n",
        "while True : # roof\n",
        "    my_num = int(input(\"enter in 1~100 nums! : \"))\n",
        "\n",
        "    if my_num > ran_num :\n",
        "        print(\" Down : your number is larger\")\n",
        "    elif my_num < ran_num :\n",
        "        print(\" Up : your number is smaller \")\n",
        "    elif my_num == ran_num :\n",
        "        print(\" Success!! answer is %s your are tring %s times\"%(ran_num, game_count))\n",
        "        break\n",
        "    game_count += 1\n"
      ],
      "metadata": {
        "id": "hiADR_tMr17o"
      },
      "execution_count": null,
      "outputs": []
    },
    {
      "cell_type": "code",
      "execution_count": null,
      "metadata": {
        "id": "S6O84_ohqWZC"
      },
      "outputs": [],
      "source": [
        "\n",
        "import random\n",
        "\n",
        "ran_num = random.randint(1,100) # 1~100 random num generate\n",
        "\n",
        "print(ran_num)\n"
      ]
    },
    {
      "cell_type": "code",
      "source": [],
      "metadata": {
        "id": "Mi3vA_ryr51B"
      },
      "execution_count": null,
      "outputs": []
    }
  ]
}