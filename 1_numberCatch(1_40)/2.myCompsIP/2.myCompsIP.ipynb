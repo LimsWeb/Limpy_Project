{
 "cells": [
  {
   "cell_type": "code",
   "execution_count": 5,
   "metadata": {},
   "outputs": [
    {
     "name": "stdout",
     "output_type": "stream",
     "text": [
      "내부 IP : 172.16.9.30 \n",
      "외부 IP : 119.200.28.9\n"
     ]
    }
   ],
   "source": [
    "# all add\n",
    "import socket\n",
    "import requests\n",
    "import re\n",
    "\n",
    "inadd = socket.socket(socket.AF_INET,socket.SOCK_STREAM)\n",
    "inadd.connect((\"www.google.co.kr\",443)) # 443 is https default port\n",
    "\n",
    "\n",
    "req = requests.get(\"http://ipconfig.kr\")\n",
    "outadd = re.search(r\"IP Address : (\\d{1,3}\\.\\d{1,3}\\.\\d{1,3}\\.\\d{1,3})\", req.text)[1]\n",
    "\n",
    "\n",
    "print(\"내부 IP : %s \\n외부 IP : %s\" %(inadd.getsockname()[0],outadd))\n",
    "\n",
    "\n"
   ]
  },
  {
   "cell_type": "code",
   "execution_count": 1,
   "metadata": {},
   "outputs": [
    {
     "name": "stdout",
     "output_type": "stream",
     "text": [
      "119.200.28.9\n"
     ]
    }
   ],
   "source": [
    "# out add\n",
    "import requests\n",
    "import re\n",
    "\n",
    "req = requests.get(\"http://ipconfig.kr\")\n",
    "\n",
    "outadd = re.search(r\"IP Address : (\\d{1,3}\\.\\d{1,3}\\.\\d{1,3}\\.\\d{1,3})\", req.text)[1]\n",
    "\n",
    "print(outadd)\n"
   ]
  },
  {
   "cell_type": "code",
   "execution_count": 2,
   "metadata": {},
   "outputs": [
    {
     "name": "stdout",
     "output_type": "stream",
     "text": [
      "172.16.9.30\n"
     ]
    }
   ],
   "source": [
    "# in add\n",
    "import socket\n",
    "\n",
    "inadd = socket.gethostbyname(socket.gethostname())\n",
    "\n",
    "print(inadd)\n"
   ]
  }
 ],
 "metadata": {
  "kernelspec": {
   "display_name": "stt_py38_tf25",
   "language": "python",
   "name": "python3"
  },
  "language_info": {
   "codemirror_mode": {
    "name": "ipython",
    "version": 3
   },
   "file_extension": ".py",
   "mimetype": "text/x-python",
   "name": "python",
   "nbconvert_exporter": "python",
   "pygments_lexer": "ipython3",
   "version": "3.8.18"
  }
 },
 "nbformat": 4,
 "nbformat_minor": 2
}
