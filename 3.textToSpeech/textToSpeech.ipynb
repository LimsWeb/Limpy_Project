{
 "cells": [
  {
   "cell_type": "code",
   "execution_count": 1,
   "metadata": {},
   "outputs": [
    {
     "name": "stdout",
     "output_type": "stream",
     "text": [
      "Collecting gtts\n",
      "  Obtaining dependency information for gtts from https://files.pythonhosted.org/packages/a7/ef/190f64a4edeb13165e3c598a08f06a2ae80cdae0aa208c96c20efdb7ad4b/gTTS-2.4.0-py3-none-any.whl.metadata\n",
      "  Downloading gTTS-2.4.0-py3-none-any.whl.metadata (4.1 kB)\n",
      "Requirement already satisfied: requests<3,>=2.27 in d:\\99.envs\\envs\\stt_py38_tf25\\lib\\site-packages (from gtts) (2.31.0)\n",
      "Requirement already satisfied: click<8.2,>=7.1 in d:\\99.envs\\envs\\stt_py38_tf25\\lib\\site-packages (from gtts) (8.1.7)\n",
      "Requirement already satisfied: colorama in d:\\99.envs\\envs\\stt_py38_tf25\\lib\\site-packages (from click<8.2,>=7.1->gtts) (0.4.6)\n",
      "Requirement already satisfied: charset-normalizer<4,>=2 in d:\\99.envs\\envs\\stt_py38_tf25\\lib\\site-packages (from requests<3,>=2.27->gtts) (3.3.0)\n",
      "Requirement already satisfied: idna<4,>=2.5 in d:\\99.envs\\envs\\stt_py38_tf25\\lib\\site-packages (from requests<3,>=2.27->gtts) (3.4)\n",
      "Requirement already satisfied: urllib3<3,>=1.21.1 in d:\\99.envs\\envs\\stt_py38_tf25\\lib\\site-packages (from requests<3,>=2.27->gtts) (2.0.6)\n",
      "Requirement already satisfied: certifi>=2017.4.17 in d:\\99.envs\\envs\\stt_py38_tf25\\lib\\site-packages (from requests<3,>=2.27->gtts) (2023.7.22)\n",
      "Downloading gTTS-2.4.0-py3-none-any.whl (29 kB)\n",
      "Installing collected packages: gtts\n",
      "Successfully installed gtts-2.4.0\n"
     ]
    }
   ],
   "source": [
    "!pip install gtts"
   ]
  },
  {
   "cell_type": "code",
   "execution_count": 2,
   "metadata": {},
   "outputs": [
    {
     "name": "stdout",
     "output_type": "stream",
     "text": [
      "Requirement already satisfied: playsound in d:\\99.envs\\envs\\stt_py38_tf25\\lib\\site-packages (1.3.0)\n"
     ]
    }
   ],
   "source": [
    "!pip install playsound"
   ]
  },
  {
   "cell_type": "code",
   "execution_count": 13,
   "metadata": {},
   "outputs": [
    {
     "name": "stdout",
     "output_type": "stream",
     "text": [
      "시작전 경로 : D:\\999.envsFile\\prac\\3.textToSpeech\n",
      "저장 후 경로 경로 : D:\\999.envsFile\\prac\\3.textToSpeech\n",
      "Wav play  None\n"
     ]
    }
   ],
   "source": [
    "import os\n",
    "import uuid\n",
    "from gtts import gTTS\n",
    "from playsound import playsound\n",
    "\n",
    "print(\"시작전 경로 : %s\" %os.getcwd())\n",
    "\n",
    "path = \"D:/999.envsFile/prac/3.textToSpeech\"\n",
    "os.chdir(path) # 파일 실행 경로로 이동\n",
    "\n",
    "text = \"안녕하세요. 임성민 입니다. 대한민국 최고의 AI개발자가 되겠습니다\"\n",
    "\n",
    "tts = gTTS(text=text, lang='ko')\n",
    "unique_filename = str(uuid.uuid4()) + \".mp3\"\n",
    "tts.save(unique_filename)\n",
    "\n",
    "print(\"저장 후 경로 경로 : %s\" %os.getcwd())\n",
    "\n",
    "print(\"Wav play \",playsound(unique_filename))\n",
    "\n",
    "# remove the unique file after playing it.\n",
    "os.remove(unique_filename)\n"
   ]
  },
  {
   "cell_type": "code",
   "execution_count": 12,
   "metadata": {},
   "outputs": [
    {
     "name": "stdout",
     "output_type": "stream",
     "text": [
      "시작전 경로 : D:\\999.envsFile\\prac\\3.textToSpeech\n"
     ]
    },
    {
     "name": "stderr",
     "output_type": "stream",
     "text": [
      "\n",
      "    Error 265 for command:\n",
      "        open secondTTS.mp3\n",
      "    장치 이름이 이미 이 응용 프로그램에서 별칭으로 사용되고 있습니다. 고유한 별칭을 사용하십시오.\n"
     ]
    },
    {
     "name": "stdout",
     "output_type": "stream",
     "text": [
      "저장 후 경로 경로 : D:\\999.envsFile\\prac\\3.textToSpeech\n"
     ]
    },
    {
     "ename": "PlaysoundException",
     "evalue": "\n    Error 265 for command:\n        open secondTTS.mp3\n    장치 이름이 이미 이 응용 프로그램에서 별칭으로 사용되고 있습니다. 고유한 별칭을 사용하십시오.",
     "output_type": "error",
     "traceback": [
      "\u001b[1;31m---------------------------------------------------------------------------\u001b[0m",
      "\u001b[1;31mPlaysoundException\u001b[0m                        Traceback (most recent call last)",
      "\u001b[1;32md:\\999.envsFile\\prac\\3.textToSpeech\\textToSpeech.ipynb Cell 3\u001b[0m line \u001b[0;36m1\n\u001b[0;32m     <a href='vscode-notebook-cell:/d%3A/999.envsFile/prac/3.textToSpeech/textToSpeech.ipynb#W4sZmlsZQ%3D%3D?line=13'>14</a>\u001b[0m tts\u001b[39m.\u001b[39msave(\u001b[39mr\u001b[39m\u001b[39m\"\u001b[39m\u001b[39mD:/999.envsFile/prac/3.textToSpeech/secondTTS.mp3\u001b[39m\u001b[39m\"\u001b[39m)\n\u001b[0;32m     <a href='vscode-notebook-cell:/d%3A/999.envsFile/prac/3.textToSpeech/textToSpeech.ipynb#W4sZmlsZQ%3D%3D?line=14'>15</a>\u001b[0m \u001b[39mprint\u001b[39m(\u001b[39m\"\u001b[39m\u001b[39m저장 후 경로 경로 : \u001b[39m\u001b[39m%s\u001b[39;00m\u001b[39m\"\u001b[39m \u001b[39m%\u001b[39mos\u001b[39m.\u001b[39mgetcwd())\n\u001b[1;32m---> <a href='vscode-notebook-cell:/d%3A/999.envsFile/prac/3.textToSpeech/textToSpeech.ipynb#W4sZmlsZQ%3D%3D?line=16'>17</a>\u001b[0m \u001b[39mprint\u001b[39m(\u001b[39m\"\u001b[39m\u001b[39mWav play \u001b[39m\u001b[39m\"\u001b[39m,playsound(\u001b[39m\"\u001b[39;49m\u001b[39msecondTTS.mp3\u001b[39;49m\u001b[39m\"\u001b[39;49m))\n",
      "File \u001b[1;32md:\\99.envs\\envs\\stt_py38_tf25\\lib\\site-packages\\playsound.py:72\u001b[0m, in \u001b[0;36m_playsoundWin\u001b[1;34m(sound, block)\u001b[0m\n\u001b[0;32m     70\u001b[0m \u001b[39mtry\u001b[39;00m:\n\u001b[0;32m     71\u001b[0m     logger\u001b[39m.\u001b[39mdebug(\u001b[39m'\u001b[39m\u001b[39mStarting\u001b[39m\u001b[39m'\u001b[39m)\n\u001b[1;32m---> 72\u001b[0m     winCommand(\u001b[39mu\u001b[39;49m\u001b[39m'\u001b[39;49m\u001b[39mopen \u001b[39;49m\u001b[39m{}\u001b[39;49;00m\u001b[39m'\u001b[39;49m\u001b[39m.\u001b[39;49mformat(sound))\n\u001b[0;32m     73\u001b[0m     winCommand(\u001b[39mu\u001b[39m\u001b[39m'\u001b[39m\u001b[39mplay \u001b[39m\u001b[39m{}\u001b[39;00m\u001b[39m{}\u001b[39;00m\u001b[39m'\u001b[39m\u001b[39m.\u001b[39mformat(sound, \u001b[39m'\u001b[39m\u001b[39m wait\u001b[39m\u001b[39m'\u001b[39m \u001b[39mif\u001b[39;00m block \u001b[39melse\u001b[39;00m \u001b[39m'\u001b[39m\u001b[39m'\u001b[39m))\n\u001b[0;32m     74\u001b[0m     logger\u001b[39m.\u001b[39mdebug(\u001b[39m'\u001b[39m\u001b[39mReturning\u001b[39m\u001b[39m'\u001b[39m)\n",
      "File \u001b[1;32md:\\99.envs\\envs\\stt_py38_tf25\\lib\\site-packages\\playsound.py:64\u001b[0m, in \u001b[0;36m_playsoundWin.<locals>.winCommand\u001b[1;34m(*command)\u001b[0m\n\u001b[0;32m     60\u001b[0m     exceptionMessage \u001b[39m=\u001b[39m (\u001b[39m'\u001b[39m\u001b[39m\\n\u001b[39;00m\u001b[39m    Error \u001b[39m\u001b[39m'\u001b[39m \u001b[39m+\u001b[39m \u001b[39mstr\u001b[39m(errorCode) \u001b[39m+\u001b[39m \u001b[39m'\u001b[39m\u001b[39m for command:\u001b[39m\u001b[39m'\u001b[39m\n\u001b[0;32m     61\u001b[0m                         \u001b[39m'\u001b[39m\u001b[39m\\n\u001b[39;00m\u001b[39m        \u001b[39m\u001b[39m'\u001b[39m \u001b[39m+\u001b[39m command\u001b[39m.\u001b[39mdecode(\u001b[39m'\u001b[39m\u001b[39mutf-16\u001b[39m\u001b[39m'\u001b[39m) \u001b[39m+\u001b[39m\n\u001b[0;32m     62\u001b[0m                         \u001b[39m'\u001b[39m\u001b[39m\\n\u001b[39;00m\u001b[39m    \u001b[39m\u001b[39m'\u001b[39m \u001b[39m+\u001b[39m errorBuffer\u001b[39m.\u001b[39mraw\u001b[39m.\u001b[39mdecode(\u001b[39m'\u001b[39m\u001b[39mutf-16\u001b[39m\u001b[39m'\u001b[39m)\u001b[39m.\u001b[39mrstrip(\u001b[39m'\u001b[39m\u001b[39m\\0\u001b[39;00m\u001b[39m'\u001b[39m))\n\u001b[0;32m     63\u001b[0m     logger\u001b[39m.\u001b[39merror(exceptionMessage)\n\u001b[1;32m---> 64\u001b[0m     \u001b[39mraise\u001b[39;00m PlaysoundException(exceptionMessage)\n\u001b[0;32m     65\u001b[0m \u001b[39mreturn\u001b[39;00m buf\u001b[39m.\u001b[39mvalue\n",
      "\u001b[1;31mPlaysoundException\u001b[0m: \n    Error 265 for command:\n        open secondTTS.mp3\n    장치 이름이 이미 이 응용 프로그램에서 별칭으로 사용되고 있습니다. 고유한 별칭을 사용하십시오."
     ]
    }
   ],
   "source": [
    "# error  fix : \n",
    "# uid.uuid4() 함수를 사용하여 각 실행마다 고유한 이름의 mp3파일을 생성하고,\n",
    "# 별칭 충돌 문제가 발생하지 않도록 수정, 마지막에 os.remove(unique_filename)를 호출하여 재생 후 생성된 mp3파일을 삭제\n",
    "from gtts import gTTS\n",
    "\n",
    "from playsound import playsound\n",
    "import os\n",
    "\n",
    "print(\"시작전 경로 : %s\" %os.getcwd())\n",
    "\n",
    "path = \"D:/999.envsFile/prac/3.textToSpeech\"\n",
    "os.chdir(path) # 파일 실행 경로로 이동\n",
    "\n",
    "text = \"안녕하세요. 임성민 입니다. 대한민국 최고의 AI개발자가 되고 싶습니다\"\n",
    "\n",
    "tts = gTTS(text=text, lang='ko')\n",
    "tts.save(r\"D:/999.envsFile/prac/3.textToSpeech/secondTTS.mp3\")\n",
    "\n",
    "print(\"저장 후 경로 경로 : %s\" %os.getcwd())\n",
    "\n",
    "print(\"Wav play \",playsound(\"secondTTS.mp3\"))\n",
    "\n"
   ]
  },
  {
   "cell_type": "code",
   "execution_count": 5,
   "metadata": {},
   "outputs": [],
   "source": [
    "from gtts import gTTS\n",
    "\n",
    "text = \"안녕하세요. Lim Sung Min 입니다.\"\n",
    "\n",
    "tts = gTTS(text=text, lang='ko')\n",
    "tts.save(r\"D:\\999.envsFile\\prac\\3.textToSpeech\\firstTTS.mp3\")"
   ]
  },
  {
   "cell_type": "code",
   "execution_count": null,
   "metadata": {},
   "outputs": [],
   "source": []
  }
 ],
 "metadata": {
  "kernelspec": {
   "display_name": "stt_py38_tf25",
   "language": "python",
   "name": "python3"
  },
  "language_info": {
   "codemirror_mode": {
    "name": "ipython",
    "version": 3
   },
   "file_extension": ".py",
   "mimetype": "text/x-python",
   "name": "python",
   "nbconvert_exporter": "python",
   "pygments_lexer": "ipython3",
   "version": "3.8.18"
  }
 },
 "nbformat": 4,
 "nbformat_minor": 2
}
