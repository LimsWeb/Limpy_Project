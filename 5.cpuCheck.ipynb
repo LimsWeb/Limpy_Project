{
 "cells": [
  {
   "cell_type": "code",
   "execution_count": 1,
   "metadata": {},
   "outputs": [
    {
     "name": "stdout",
     "output_type": "stream",
     "text": [
      "Requirement already satisfied: psutil in c:\\users\\smlim\\anaconda3\\envs\\llm_py39_tf25\\lib\\site-packages (5.9.0)\n",
      "Note: you may need to restart the kernel to use updated packages.\n"
     ]
    }
   ],
   "source": [
    "pip install psutil"
   ]
  },
  {
   "cell_type": "code",
   "execution_count": 14,
   "metadata": {},
   "outputs": [
    {
     "name": "stdout",
     "output_type": "stream",
     "text": [
      "CPU 속도 : 2.8GHz\n",
      "Core : 4개\n",
      "Memory : 16 GB\n",
      "C:\\ NTFS Disk : 460GB\n",
      "E:\\ exFAT Disk : 119GB\n",
      "F:\\ exFAT Disk : 120GB\n",
      "Sent : 8.5MB, Receive : 61.6MB\n"
     ]
    }
   ],
   "source": [
    "\n",
    "# specific information print\n",
    "import psutil\n",
    "\n",
    "cpu = psutil.cpu_freq() # CPU speed\n",
    "cpu_current_ghz = round(cpu.current /1000, 2)\n",
    "print(\"CPU 속도 : %sGHz\" %cpu_current_ghz)\n",
    "\n",
    "cpu_core = psutil.cpu_count(logical=False) # CPU core N\n",
    "print(\"Core : %s개\" %cpu_core)\n",
    "\n",
    "memory = psutil.virtual_memory() # memory information\n",
    "memory_tot =round(memory.total / 1024**3)\n",
    "print(\"Memory : %s GB\" %memory_tot)\n",
    "\n",
    "disk = psutil.disk_partitions() # all disk in computer information\n",
    "for i in disk :\n",
    "    print(i.mountpoint, i.fstype, end = \" \")\n",
    "    du = psutil.disk_usage(i.mountpoint)\n",
    "    disk_tot =round(du.total / 1024**3)\n",
    "    print(\"Disk : %sGB\" %disk_tot)\n",
    "\n",
    "net = psutil.net_io_counters() # network sending, receivedata information\n",
    "sent = round(net.bytes_sent/1024**2,1)\n",
    "recv = round(net.bytes_recv/1024**2,1)\n",
    "print(\"Sent : %sMB, Receive : %sMB\" %(sent, recv))\n"
   ]
  },
  {
   "cell_type": "code",
   "execution_count": 15,
   "metadata": {},
   "outputs": [
    {
     "name": "stdout",
     "output_type": "stream",
     "text": [
      "CPU  : 7.6\n",
      "remain_Memory : 8.4 GB\n",
      "Sent : 8.5MB, Receive : 61.6MB\n",
      "CPU  : 12.4\n",
      "remain_Memory : 8.4 GB\n",
      "Sent : 8.5MB, Receive : 61.6MB\n",
      "CPU  : 13.0\n",
      "remain_Memory : 8.4 GB\n",
      "Sent : 8.5MB, Receive : 61.6MB\n",
      "CPU  : 10.9\n",
      "remain_Memory : 8.3 GB\n",
      "Sent : 8.5MB, Receive : 61.6MB\n",
      "CPU  : 12.3\n",
      "remain_Memory : 8.3 GB\n",
      "Sent : 8.5MB, Receive : 61.6MB\n"
     ]
    },
    {
     "ename": "KeyboardInterrupt",
     "evalue": "",
     "output_type": "error",
     "traceback": [
      "\u001b[1;31m---------------------------------------------------------------------------\u001b[0m",
      "\u001b[1;31mKeyboardInterrupt\u001b[0m                         Traceback (most recent call last)",
      "Cell \u001b[1;32mIn[15], line 12\u001b[0m\n\u001b[0;32m      8\u001b[0m prev_recv \u001b[39m=\u001b[39m \u001b[39m0\u001b[39m\n\u001b[0;32m     10\u001b[0m \u001b[39mwhile\u001b[39;00m \u001b[39mTrue\u001b[39;00m :\n\u001b[1;32m---> 12\u001b[0m     cpu_p \u001b[39m=\u001b[39m psutil\u001b[39m.\u001b[39;49mcpu_percent(interval \u001b[39m=\u001b[39;49m \u001b[39m1\u001b[39;49m) \u001b[39m# CPU use\u001b[39;00m\n\u001b[0;32m     13\u001b[0m     \u001b[39mprint\u001b[39m(\u001b[39m\"\u001b[39m\u001b[39mCPU  : \u001b[39m\u001b[39m%s\u001b[39;00m\u001b[39m\"\u001b[39m \u001b[39m%\u001b[39mcpu_p)\n\u001b[0;32m     15\u001b[0m     memory \u001b[39m=\u001b[39m psutil\u001b[39m.\u001b[39mvirtual_memory() \u001b[39m# memory use\u001b[39;00m\n",
      "File \u001b[1;32mc:\\Users\\smlim\\anaconda3\\envs\\llm_py39_tf25\\lib\\site-packages\\psutil\\__init__.py:1747\u001b[0m, in \u001b[0;36mcpu_percent\u001b[1;34m(interval, percpu)\u001b[0m\n\u001b[0;32m   1745\u001b[0m \u001b[39mif\u001b[39;00m blocking:\n\u001b[0;32m   1746\u001b[0m     t1 \u001b[39m=\u001b[39m cpu_times()\n\u001b[1;32m-> 1747\u001b[0m     time\u001b[39m.\u001b[39;49msleep(interval)\n\u001b[0;32m   1748\u001b[0m \u001b[39melse\u001b[39;00m:\n\u001b[0;32m   1749\u001b[0m     t1 \u001b[39m=\u001b[39m _last_cpu_times\n",
      "\u001b[1;31mKeyboardInterrupt\u001b[0m: "
     ]
    }
   ],
   "source": [
    "\n",
    "# live information print\n",
    "import psutil\n",
    "\n",
    "curr_sent = 0\n",
    "curr_recv = 0\n",
    "\n",
    "prev_sent = 0\n",
    "prev_recv = 0\n",
    "\n",
    "while True :\n",
    "    \n",
    "    cpu_p = psutil.cpu_percent(interval = 1) # CPU use\n",
    "    print(\"CPU  : %s\" %cpu_p)\n",
    "\n",
    "    memory = psutil.virtual_memory() # memory use\n",
    "    memory_ava =round(memory.available / 1024**3, 1)\n",
    "    print(\"remain_Memory : %s GB\" %memory_ava)\n",
    "\n",
    "    net = psutil.net_io_counters() # network sending, receivedata information\n",
    "    curr_sent = round(curr_sent-prev_sent,1)\n",
    "    curr_recv = round(curr_recv-prev_recv,1)\n",
    "    print(\"Sent : %sMB, Receive : %sMB\" %(sent, recv))\n",
    "\n",
    "    prev_sent = curr_sent\n",
    "    prev_recv = curr_recv\n"
   ]
  },
  {
   "cell_type": "code",
   "execution_count": 3,
   "metadata": {},
   "outputs": [
    {
     "name": "stdout",
     "output_type": "stream",
     "text": [
      "scpufreq(current=2803.0, min=0.0, max=2803.0)\n",
      "4\n",
      "svmem(total=16837525504, available=8574787584, percent=49.1, used=8262737920, free=8574787584)\n",
      "[sdiskpart(device='C:\\\\', mountpoint='C:\\\\', fstype='NTFS', opts='rw,fixed', maxfile=255, maxpath=260), sdiskpart(device='E:\\\\', mountpoint='E:\\\\', fstype='exFAT', opts='rw,removable', maxfile=255, maxpath=260), sdiskpart(device='F:\\\\', mountpoint='F:\\\\', fstype='exFAT', opts='rw,removable', maxfile=255, maxpath=260)]\n",
      "snetio(bytes_sent=7187744, bytes_recv=62424609, packets_sent=36272, packets_recv=67958, errin=0, errout=0, dropin=0, dropout=0)\n"
     ]
    }
   ],
   "source": [
    "\n",
    "# all information prin\n",
    "import psutil\n",
    "\n",
    "cpu = psutil.cpu_freq() # CPU speed\n",
    "print(cpu)\n",
    "\n",
    "cpu_core = psutil.cpu_count(logical=False) # CPU core N\n",
    "print(cpu_core)\n",
    "\n",
    "memory = psutil.virtual_memory() # memory information\n",
    "print(memory)\n",
    "\n",
    "disk = psutil.disk_partitions() # disk information\n",
    "print(disk)\n",
    "\n",
    "net = psutil.net_io_counters() # network sending, receivedata information\n",
    "print(net)\n"
   ]
  },
  {
   "cell_type": "code",
   "execution_count": null,
   "metadata": {},
   "outputs": [],
   "source": []
  },
  {
   "cell_type": "code",
   "execution_count": null,
   "metadata": {},
   "outputs": [],
   "source": []
  },
  {
   "cell_type": "code",
   "execution_count": null,
   "metadata": {},
   "outputs": [],
   "source": []
  },
  {
   "cell_type": "code",
   "execution_count": null,
   "metadata": {},
   "outputs": [],
   "source": []
  }
 ],
 "metadata": {
  "kernelspec": {
   "display_name": "llm_py39_tf25",
   "language": "python",
   "name": "python3"
  },
  "language_info": {
   "codemirror_mode": {
    "name": "ipython",
    "version": 3
   },
   "file_extension": ".py",
   "mimetype": "text/x-python",
   "name": "python",
   "nbconvert_exporter": "python",
   "pygments_lexer": "ipython3",
   "version": "3.9.0"
  },
  "orig_nbformat": 4
 },
 "nbformat": 4,
 "nbformat_minor": 2
}
