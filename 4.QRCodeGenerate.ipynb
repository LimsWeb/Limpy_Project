{
 "cells": [
  {
   "cell_type": "code",
   "execution_count": 2,
   "metadata": {},
   "outputs": [
    {
     "name": "stdout",
     "output_type": "stream",
     "text": [
      "Collecting qrcode\n",
      "  Downloading qrcode-7.4.2-py3-none-any.whl (46 kB)\n",
      "     ---------------------------------------- 0.0/46.2 kB ? eta -:--:--\n",
      "     ---------------------------------------- 46.2/46.2 kB 2.2 MB/s eta 0:00:00\n",
      "Requirement already satisfied: typing-extensions in c:\\users\\smlim\\anaconda3\\envs\\llm_py39_tf25\\lib\\site-packages (from qrcode) (4.8.0)\n",
      "Collecting pypng (from qrcode)\n",
      "  Downloading pypng-0.20220715.0-py3-none-any.whl (58 kB)\n",
      "     ---------------------------------------- 0.0/58.1 kB ? eta -:--:--\n",
      "     ---------------------------------------- 58.1/58.1 kB ? eta 0:00:00\n",
      "Requirement already satisfied: colorama in c:\\users\\smlim\\anaconda3\\envs\\llm_py39_tf25\\lib\\site-packages (from qrcode) (0.4.6)\n",
      "Installing collected packages: pypng, qrcode\n",
      "Successfully installed pypng-0.20220715.0 qrcode-7.4.2\n"
     ]
    }
   ],
   "source": [
    "!pip install qrcode"
   ]
  },
  {
   "attachments": {},
   "cell_type": "markdown",
   "metadata": {},
   "source": []
  },
  {
   "cell_type": "code",
   "execution_count": 5,
   "metadata": {},
   "outputs": [
    {
     "ename": "OSError",
     "evalue": "[Errno 22] Invalid argument: 'E:/공부/practice/4.QRCodeGenerate/https://github.com/LimsWeb.png'",
     "output_type": "error",
     "traceback": [
      "\u001b[1;31m---------------------------------------------------------------------------\u001b[0m",
      "\u001b[1;31mOSError\u001b[0m                                   Traceback (most recent call last)",
      "Cell \u001b[1;32mIn[5], line 9\u001b[0m\n\u001b[0;32m      5\u001b[0m qr_img \u001b[39m=\u001b[39m qrcode\u001b[39m.\u001b[39mmake(qr_data)\n\u001b[0;32m      7\u001b[0m save_path \u001b[39m=\u001b[39m (\u001b[39mr\u001b[39m\u001b[39m'\u001b[39m\u001b[39mE:/공부/practice/4.QRCodeGenerate/\u001b[39m\u001b[39m'\u001b[39m\u001b[39m+\u001b[39m qr_data \u001b[39m+\u001b[39m\u001b[39m'\u001b[39m\u001b[39m.png\u001b[39m\u001b[39m'\u001b[39m)\n\u001b[1;32m----> 9\u001b[0m qr_img\u001b[39m.\u001b[39;49msave(save_path)\n",
      "File \u001b[1;32mc:\\Users\\smlim\\anaconda3\\envs\\llm_py39_tf25\\lib\\site-packages\\qrcode\\image\\pure.py:27\u001b[0m, in \u001b[0;36mPyPNGImage.save\u001b[1;34m(self, stream, kind)\u001b[0m\n\u001b[0;32m     25\u001b[0m \u001b[39mdef\u001b[39;00m \u001b[39msave\u001b[39m(\u001b[39mself\u001b[39m, stream, kind\u001b[39m=\u001b[39m\u001b[39mNone\u001b[39;00m):\n\u001b[0;32m     26\u001b[0m     \u001b[39mif\u001b[39;00m \u001b[39misinstance\u001b[39m(stream, \u001b[39mstr\u001b[39m):\n\u001b[1;32m---> 27\u001b[0m         stream \u001b[39m=\u001b[39m \u001b[39mopen\u001b[39;49m(stream, \u001b[39m\"\u001b[39;49m\u001b[39mwb\u001b[39;49m\u001b[39m\"\u001b[39;49m)\n\u001b[0;32m     28\u001b[0m     \u001b[39mself\u001b[39m\u001b[39m.\u001b[39m_img\u001b[39m.\u001b[39mwrite(stream, \u001b[39mself\u001b[39m\u001b[39m.\u001b[39mrows_iter())\n",
      "\u001b[1;31mOSError\u001b[0m: [Errno 22] Invalid argument: 'E:/공부/practice/4.QRCodeGenerate/https://github.com/LimsWeb.png'"
     ]
    }
   ],
   "source": [
    "import qrcode\n",
    "\n",
    "\n",
    "qr_data = 'https://github.com/LimsWeb'\n",
    "\n",
    "\n",
    "qr_img = qrcode.make(qr_data)\n",
    "\n",
    "save_path = (r'E:/공부/practice/4.QRCodeGenerate/'+ qr_data +'.png')\n",
    "\n",
    "qr_img.save(save_path)"
   ]
  },
  {
   "cell_type": "code",
   "execution_count": 11,
   "metadata": {},
   "outputs": [],
   "source": [
    "import qrcode\n",
    "import urllib.parse\n",
    "\n",
    "\n",
    "qr_data = r'www.github.com/LimsWeb'\n",
    "filename = urllib.parse.quote(qr_data, safe='')\n",
    "\n",
    "qr_img = qrcode.make(qr_data)\n",
    "\n",
    "save_path = (r'E:/공부/practice/4.QRCodeGenerate/'+ filename +'.png')\n",
    "\n",
    "qr_img.save(save_path)"
   ]
  }
 ],
 "metadata": {
  "kernelspec": {
   "display_name": "llm_py39_tf25",
   "language": "python",
   "name": "python3"
  },
  "language_info": {
   "codemirror_mode": {
    "name": "ipython",
    "version": 3
   },
   "file_extension": ".py",
   "mimetype": "text/x-python",
   "name": "python",
   "nbconvert_exporter": "python",
   "pygments_lexer": "ipython3",
   "version": "3.9.0"
  },
  "orig_nbformat": 4
 },
 "nbformat": 4,
 "nbformat_minor": 2
}
